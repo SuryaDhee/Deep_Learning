{
 "cells": [
  {
   "cell_type": "code",
   "execution_count": 0,
   "metadata": {
    "colab": {},
    "colab_type": "code",
    "collapsed": true,
    "deletable": true,
    "editable": true,
    "id": "RHxv4Pn674_S"
   },
   "outputs": [],
   "source": [
    "!pip install -q tensorflow==2.0.0-beta1\n"
   ]
  },
  {
   "cell_type": "code",
   "execution_count": 25,
   "metadata": {
    "colab": {
     "base_uri": "https://localhost:8080/",
     "height": 34
    },
    "colab_type": "code",
    "collapsed": false,
    "deletable": true,
    "editable": true,
    "executionInfo": {
     "elapsed": 3507,
     "status": "ok",
     "timestamp": 1583585192672,
     "user": {
      "displayName": "SURYA DHEESHJITH",
      "photoUrl": "",
      "userId": "01445913287307819950"
     },
     "user_tz": -330
    },
    "id": "HkMA7eaI78pq",
    "outputId": "c75d36ce-008a-4c0c-9c1e-e4cf9c4626fa"
   },
   "outputs": [
    {
     "name": "stdout",
     "output_type": "stream",
     "text": [
      "2.0.0-beta1\n"
     ]
    }
   ],
   "source": [
    "import tensorflow as tf\n",
    "print(tf.__version__)"
   ]
  },
  {
   "cell_type": "code",
   "execution_count": 0,
   "metadata": {
    "colab": {},
    "colab_type": "code",
    "collapsed": true,
    "deletable": true,
    "editable": true,
    "id": "5ZXgsySq7_c1"
   },
   "outputs": [],
   "source": [
    "from sklearn.datasets import load_breast_cancer"
   ]
  },
  {
   "cell_type": "code",
   "execution_count": 0,
   "metadata": {
    "colab": {},
    "colab_type": "code",
    "collapsed": true,
    "deletable": true,
    "editable": true,
    "id": "fHJOCMit8JVt"
   },
   "outputs": [],
   "source": [
    "data = load_breast_cancer()"
   ]
  },
  {
   "cell_type": "code",
   "execution_count": 0,
   "metadata": {
    "colab": {},
    "colab_type": "code",
    "collapsed": true,
    "deletable": true,
    "editable": true,
    "id": "DoU-qq4J8fN2"
   },
   "outputs": [],
   "source": [
    "from sklearn.model_selection import train_test_split\n",
    "\n",
    "\n",
    "# split the data into train and test sets\n",
    "# this lets us simulate how our model will perform in the future\n",
    "X_train, X_test, y_train, y_test = train_test_split(data.data, data.target, test_size=0.33)\n",
    "N, D = X_train.shape"
   ]
  },
  {
   "cell_type": "code",
   "execution_count": 0,
   "metadata": {
    "colab": {},
    "colab_type": "code",
    "collapsed": true,
    "deletable": true,
    "editable": true,
    "id": "iJn1beud8mOa"
   },
   "outputs": [],
   "source": [
    "from sklearn.preprocessing import StandardScaler\n",
    "\n",
    "scaler = StandardScaler()\n",
    "X_train = scaler.fit_transform(X_train)\n",
    "X_test = scaler.transform(X_test)"
   ]
  },
  {
   "cell_type": "code",
   "execution_count": 0,
   "metadata": {
    "colab": {},
    "colab_type": "code",
    "collapsed": true,
    "deletable": true,
    "editable": true,
    "id": "oukMZhNa8qOQ"
   },
   "outputs": [],
   "source": [
    "model = tf.keras.models.Sequential()\n",
    "model.add(tf.keras.layers.Dense(1, input_shape=(D,), activation='sigmoid'))"
   ]
  },
  {
   "cell_type": "code",
   "execution_count": 0,
   "metadata": {
    "colab": {},
    "colab_type": "code",
    "collapsed": true,
    "deletable": true,
    "editable": true,
    "id": "U0DyrZsu9_6Q"
   },
   "outputs": [],
   "source": [
    "model.compile(optimizer = 'adam', loss = 'binary_crossentropy', metrics = ['accuracy'])"
   ]
  },
  {
   "cell_type": "code",
   "execution_count": 35,
   "metadata": {
    "colab": {
     "base_uri": "https://localhost:8080/",
     "height": 1000
    },
    "colab_type": "code",
    "collapsed": false,
    "deletable": true,
    "editable": true,
    "executionInfo": {
     "elapsed": 8172,
     "status": "ok",
     "timestamp": 1583585223714,
     "user": {
      "displayName": "SURYA DHEESHJITH",
      "photoUrl": "",
      "userId": "01445913287307819950"
     },
     "user_tz": -330
    },
    "id": "j7U7fTxCBCeg",
    "outputId": "1b1c312f-982d-4e72-87f2-d17777f27916"
   },
   "outputs": [
    {
     "name": "stdout",
     "output_type": "stream",
     "text": [
      "Train on 381 samples, validate on 188 samples\n",
      "Epoch 1/100\n",
      "381/381 [==============================] - 0s 610us/sample - loss: 0.4504 - accuracy: 0.7953 - val_loss: 0.3575 - val_accuracy: 0.8617\n",
      "Epoch 2/100\n",
      "381/381 [==============================] - 0s 214us/sample - loss: 0.3702 - accuracy: 0.8451 - val_loss: 0.2988 - val_accuracy: 0.8723\n",
      "Epoch 3/100\n",
      "381/381 [==============================] - 0s 177us/sample - loss: 0.3212 - accuracy: 0.8688 - val_loss: 0.2602 - val_accuracy: 0.8989\n",
      "Epoch 4/100\n",
      "381/381 [==============================] - 0s 175us/sample - loss: 0.2871 - accuracy: 0.8793 - val_loss: 0.2336 - val_accuracy: 0.9149\n",
      "Epoch 5/100\n",
      "381/381 [==============================] - 0s 176us/sample - loss: 0.2630 - accuracy: 0.8898 - val_loss: 0.2124 - val_accuracy: 0.9202\n",
      "Epoch 6/100\n",
      "381/381 [==============================] - 0s 223us/sample - loss: 0.2437 - accuracy: 0.9055 - val_loss: 0.1964 - val_accuracy: 0.9202\n",
      "Epoch 7/100\n",
      "381/381 [==============================] - 0s 169us/sample - loss: 0.2285 - accuracy: 0.9081 - val_loss: 0.1829 - val_accuracy: 0.9309\n",
      "Epoch 8/100\n",
      "381/381 [==============================] - 0s 163us/sample - loss: 0.2159 - accuracy: 0.9081 - val_loss: 0.1712 - val_accuracy: 0.9362\n",
      "Epoch 9/100\n",
      "381/381 [==============================] - 0s 171us/sample - loss: 0.2051 - accuracy: 0.9134 - val_loss: 0.1615 - val_accuracy: 0.9362\n",
      "Epoch 10/100\n",
      "381/381 [==============================] - 0s 209us/sample - loss: 0.1964 - accuracy: 0.9134 - val_loss: 0.1528 - val_accuracy: 0.9362\n",
      "Epoch 11/100\n",
      "381/381 [==============================] - 0s 187us/sample - loss: 0.1883 - accuracy: 0.9108 - val_loss: 0.1454 - val_accuracy: 0.9362\n",
      "Epoch 12/100\n",
      "381/381 [==============================] - 0s 203us/sample - loss: 0.1815 - accuracy: 0.9160 - val_loss: 0.1388 - val_accuracy: 0.9362\n",
      "Epoch 13/100\n",
      "381/381 [==============================] - 0s 162us/sample - loss: 0.1754 - accuracy: 0.9213 - val_loss: 0.1331 - val_accuracy: 0.9468\n",
      "Epoch 14/100\n",
      "381/381 [==============================] - 0s 161us/sample - loss: 0.1702 - accuracy: 0.9213 - val_loss: 0.1278 - val_accuracy: 0.9521\n",
      "Epoch 15/100\n",
      "381/381 [==============================] - 0s 171us/sample - loss: 0.1652 - accuracy: 0.9239 - val_loss: 0.1227 - val_accuracy: 0.9521\n",
      "Epoch 16/100\n",
      "381/381 [==============================] - 0s 191us/sample - loss: 0.1608 - accuracy: 0.9239 - val_loss: 0.1182 - val_accuracy: 0.9521\n",
      "Epoch 17/100\n",
      "381/381 [==============================] - 0s 166us/sample - loss: 0.1567 - accuracy: 0.9265 - val_loss: 0.1140 - val_accuracy: 0.9521\n",
      "Epoch 18/100\n",
      "381/381 [==============================] - 0s 175us/sample - loss: 0.1530 - accuracy: 0.9291 - val_loss: 0.1099 - val_accuracy: 0.9521\n",
      "Epoch 19/100\n",
      "381/381 [==============================] - 0s 175us/sample - loss: 0.1493 - accuracy: 0.9291 - val_loss: 0.1063 - val_accuracy: 0.9521\n",
      "Epoch 20/100\n",
      "381/381 [==============================] - 0s 169us/sample - loss: 0.1461 - accuracy: 0.9291 - val_loss: 0.1030 - val_accuracy: 0.9521\n",
      "Epoch 21/100\n",
      "381/381 [==============================] - 0s 163us/sample - loss: 0.1432 - accuracy: 0.9291 - val_loss: 0.0995 - val_accuracy: 0.9521\n",
      "Epoch 22/100\n",
      "381/381 [==============================] - 0s 167us/sample - loss: 0.1405 - accuracy: 0.9370 - val_loss: 0.0969 - val_accuracy: 0.9521\n",
      "Epoch 23/100\n",
      "381/381 [==============================] - 0s 222us/sample - loss: 0.1379 - accuracy: 0.9396 - val_loss: 0.0941 - val_accuracy: 0.9574\n",
      "Epoch 24/100\n",
      "381/381 [==============================] - 0s 216us/sample - loss: 0.1354 - accuracy: 0.9423 - val_loss: 0.0917 - val_accuracy: 0.9681\n",
      "Epoch 25/100\n",
      "381/381 [==============================] - 0s 155us/sample - loss: 0.1334 - accuracy: 0.9423 - val_loss: 0.0890 - val_accuracy: 0.9681\n",
      "Epoch 26/100\n",
      "381/381 [==============================] - 0s 175us/sample - loss: 0.1311 - accuracy: 0.9423 - val_loss: 0.0869 - val_accuracy: 0.9787\n",
      "Epoch 27/100\n",
      "381/381 [==============================] - 0s 162us/sample - loss: 0.1292 - accuracy: 0.9423 - val_loss: 0.0847 - val_accuracy: 0.9787\n",
      "Epoch 28/100\n",
      "381/381 [==============================] - 0s 191us/sample - loss: 0.1273 - accuracy: 0.9449 - val_loss: 0.0828 - val_accuracy: 0.9787\n",
      "Epoch 29/100\n",
      "381/381 [==============================] - 0s 172us/sample - loss: 0.1255 - accuracy: 0.9449 - val_loss: 0.0809 - val_accuracy: 0.9787\n",
      "Epoch 30/100\n",
      "381/381 [==============================] - 0s 157us/sample - loss: 0.1240 - accuracy: 0.9501 - val_loss: 0.0791 - val_accuracy: 0.9787\n",
      "Epoch 31/100\n",
      "381/381 [==============================] - 0s 166us/sample - loss: 0.1224 - accuracy: 0.9501 - val_loss: 0.0773 - val_accuracy: 0.9787\n",
      "Epoch 32/100\n",
      "381/381 [==============================] - 0s 174us/sample - loss: 0.1208 - accuracy: 0.9528 - val_loss: 0.0758 - val_accuracy: 0.9787\n",
      "Epoch 33/100\n",
      "381/381 [==============================] - 0s 157us/sample - loss: 0.1196 - accuracy: 0.9528 - val_loss: 0.0744 - val_accuracy: 0.9787\n",
      "Epoch 34/100\n",
      "381/381 [==============================] - 0s 175us/sample - loss: 0.1182 - accuracy: 0.9528 - val_loss: 0.0726 - val_accuracy: 0.9787\n",
      "Epoch 35/100\n",
      "381/381 [==============================] - 0s 205us/sample - loss: 0.1168 - accuracy: 0.9528 - val_loss: 0.0714 - val_accuracy: 0.9787\n",
      "Epoch 36/100\n",
      "381/381 [==============================] - 0s 166us/sample - loss: 0.1156 - accuracy: 0.9528 - val_loss: 0.0701 - val_accuracy: 0.9840\n",
      "Epoch 37/100\n",
      "381/381 [==============================] - 0s 166us/sample - loss: 0.1143 - accuracy: 0.9528 - val_loss: 0.0688 - val_accuracy: 0.9894\n",
      "Epoch 38/100\n",
      "381/381 [==============================] - 0s 169us/sample - loss: 0.1132 - accuracy: 0.9528 - val_loss: 0.0675 - val_accuracy: 0.9894\n",
      "Epoch 39/100\n",
      "381/381 [==============================] - 0s 189us/sample - loss: 0.1121 - accuracy: 0.9528 - val_loss: 0.0665 - val_accuracy: 0.9894\n",
      "Epoch 40/100\n",
      "381/381 [==============================] - 0s 172us/sample - loss: 0.1111 - accuracy: 0.9528 - val_loss: 0.0654 - val_accuracy: 0.9894\n",
      "Epoch 41/100\n",
      "381/381 [==============================] - 0s 174us/sample - loss: 0.1102 - accuracy: 0.9580 - val_loss: 0.0643 - val_accuracy: 0.9894\n",
      "Epoch 42/100\n",
      "381/381 [==============================] - 0s 172us/sample - loss: 0.1096 - accuracy: 0.9554 - val_loss: 0.0634 - val_accuracy: 0.9894\n",
      "Epoch 43/100\n",
      "381/381 [==============================] - 0s 167us/sample - loss: 0.1084 - accuracy: 0.9554 - val_loss: 0.0625 - val_accuracy: 0.9894\n",
      "Epoch 44/100\n",
      "381/381 [==============================] - 0s 176us/sample - loss: 0.1076 - accuracy: 0.9554 - val_loss: 0.0616 - val_accuracy: 0.9894\n",
      "Epoch 45/100\n",
      "381/381 [==============================] - 0s 182us/sample - loss: 0.1068 - accuracy: 0.9606 - val_loss: 0.0607 - val_accuracy: 0.9894\n",
      "Epoch 46/100\n",
      "381/381 [==============================] - 0s 164us/sample - loss: 0.1059 - accuracy: 0.9606 - val_loss: 0.0599 - val_accuracy: 0.9894\n",
      "Epoch 47/100\n",
      "381/381 [==============================] - 0s 164us/sample - loss: 0.1051 - accuracy: 0.9633 - val_loss: 0.0592 - val_accuracy: 0.9894\n",
      "Epoch 48/100\n",
      "381/381 [==============================] - 0s 161us/sample - loss: 0.1041 - accuracy: 0.9633 - val_loss: 0.0585 - val_accuracy: 0.9894\n",
      "Epoch 49/100\n",
      "381/381 [==============================] - 0s 181us/sample - loss: 0.1035 - accuracy: 0.9633 - val_loss: 0.0576 - val_accuracy: 0.9894\n",
      "Epoch 50/100\n",
      "381/381 [==============================] - 0s 154us/sample - loss: 0.1027 - accuracy: 0.9633 - val_loss: 0.0571 - val_accuracy: 0.9894\n",
      "Epoch 51/100\n",
      "381/381 [==============================] - 0s 160us/sample - loss: 0.1020 - accuracy: 0.9633 - val_loss: 0.0563 - val_accuracy: 0.9894\n",
      "Epoch 52/100\n",
      "381/381 [==============================] - 0s 205us/sample - loss: 0.1014 - accuracy: 0.9633 - val_loss: 0.0556 - val_accuracy: 0.9894\n",
      "Epoch 53/100\n",
      "381/381 [==============================] - 0s 164us/sample - loss: 0.1007 - accuracy: 0.9685 - val_loss: 0.0549 - val_accuracy: 0.9894\n",
      "Epoch 54/100\n",
      "381/381 [==============================] - 0s 169us/sample - loss: 0.1001 - accuracy: 0.9685 - val_loss: 0.0544 - val_accuracy: 0.9894\n",
      "Epoch 55/100\n",
      "381/381 [==============================] - 0s 176us/sample - loss: 0.0995 - accuracy: 0.9685 - val_loss: 0.0536 - val_accuracy: 0.9894\n",
      "Epoch 56/100\n",
      "381/381 [==============================] - 0s 175us/sample - loss: 0.0989 - accuracy: 0.9685 - val_loss: 0.0529 - val_accuracy: 0.9894\n",
      "Epoch 57/100\n",
      "381/381 [==============================] - 0s 169us/sample - loss: 0.0984 - accuracy: 0.9685 - val_loss: 0.0523 - val_accuracy: 0.9894\n",
      "Epoch 58/100\n",
      "381/381 [==============================] - 0s 168us/sample - loss: 0.0977 - accuracy: 0.9685 - val_loss: 0.0519 - val_accuracy: 0.9894\n",
      "Epoch 59/100\n",
      "381/381 [==============================] - 0s 186us/sample - loss: 0.0973 - accuracy: 0.9711 - val_loss: 0.0514 - val_accuracy: 0.9894\n",
      "Epoch 60/100\n",
      "381/381 [==============================] - 0s 170us/sample - loss: 0.0967 - accuracy: 0.9711 - val_loss: 0.0510 - val_accuracy: 0.9894\n",
      "Epoch 61/100\n",
      "381/381 [==============================] - 0s 164us/sample - loss: 0.0962 - accuracy: 0.9711 - val_loss: 0.0506 - val_accuracy: 0.9894\n",
      "Epoch 62/100\n",
      "381/381 [==============================] - 0s 173us/sample - loss: 0.0958 - accuracy: 0.9711 - val_loss: 0.0500 - val_accuracy: 0.9894\n",
      "Epoch 63/100\n",
      "381/381 [==============================] - 0s 193us/sample - loss: 0.0952 - accuracy: 0.9685 - val_loss: 0.0496 - val_accuracy: 0.9947\n",
      "Epoch 64/100\n",
      "381/381 [==============================] - 0s 187us/sample - loss: 0.0947 - accuracy: 0.9711 - val_loss: 0.0493 - val_accuracy: 0.9947\n",
      "Epoch 65/100\n",
      "381/381 [==============================] - 0s 167us/sample - loss: 0.0943 - accuracy: 0.9711 - val_loss: 0.0488 - val_accuracy: 0.9947\n",
      "Epoch 66/100\n",
      "381/381 [==============================] - 0s 172us/sample - loss: 0.0938 - accuracy: 0.9711 - val_loss: 0.0485 - val_accuracy: 0.9947\n",
      "Epoch 67/100\n",
      "381/381 [==============================] - 0s 165us/sample - loss: 0.0933 - accuracy: 0.9711 - val_loss: 0.0481 - val_accuracy: 0.9947\n",
      "Epoch 68/100\n",
      "381/381 [==============================] - 0s 177us/sample - loss: 0.0930 - accuracy: 0.9711 - val_loss: 0.0477 - val_accuracy: 0.9947\n",
      "Epoch 69/100\n",
      "381/381 [==============================] - 0s 252us/sample - loss: 0.0926 - accuracy: 0.9711 - val_loss: 0.0474 - val_accuracy: 0.9947\n",
      "Epoch 70/100\n",
      "381/381 [==============================] - 0s 176us/sample - loss: 0.0924 - accuracy: 0.9685 - val_loss: 0.0471 - val_accuracy: 0.9947\n",
      "Epoch 71/100\n",
      "381/381 [==============================] - 0s 174us/sample - loss: 0.0919 - accuracy: 0.9711 - val_loss: 0.0467 - val_accuracy: 0.9947\n",
      "Epoch 72/100\n",
      "381/381 [==============================] - 0s 163us/sample - loss: 0.0913 - accuracy: 0.9711 - val_loss: 0.0463 - val_accuracy: 0.9947\n",
      "Epoch 73/100\n",
      "381/381 [==============================] - 0s 170us/sample - loss: 0.0909 - accuracy: 0.9711 - val_loss: 0.0461 - val_accuracy: 0.9947\n",
      "Epoch 74/100\n",
      "381/381 [==============================] - 0s 217us/sample - loss: 0.0905 - accuracy: 0.9711 - val_loss: 0.0457 - val_accuracy: 0.9947\n",
      "Epoch 75/100\n",
      "381/381 [==============================] - 0s 169us/sample - loss: 0.0902 - accuracy: 0.9711 - val_loss: 0.0455 - val_accuracy: 0.9947\n",
      "Epoch 76/100\n",
      "381/381 [==============================] - 0s 229us/sample - loss: 0.0898 - accuracy: 0.9711 - val_loss: 0.0452 - val_accuracy: 0.9947\n",
      "Epoch 77/100\n",
      "381/381 [==============================] - 0s 161us/sample - loss: 0.0894 - accuracy: 0.9711 - val_loss: 0.0449 - val_accuracy: 0.9947\n",
      "Epoch 78/100\n",
      "381/381 [==============================] - 0s 166us/sample - loss: 0.0891 - accuracy: 0.9711 - val_loss: 0.0446 - val_accuracy: 0.9947\n",
      "Epoch 79/100\n",
      "381/381 [==============================] - 0s 173us/sample - loss: 0.0888 - accuracy: 0.9711 - val_loss: 0.0444 - val_accuracy: 0.9947\n",
      "Epoch 80/100\n",
      "381/381 [==============================] - 0s 183us/sample - loss: 0.0884 - accuracy: 0.9711 - val_loss: 0.0441 - val_accuracy: 0.9947\n",
      "Epoch 81/100\n",
      "381/381 [==============================] - 0s 165us/sample - loss: 0.0880 - accuracy: 0.9711 - val_loss: 0.0439 - val_accuracy: 0.9947\n",
      "Epoch 82/100\n",
      "381/381 [==============================] - 0s 168us/sample - loss: 0.0877 - accuracy: 0.9711 - val_loss: 0.0436 - val_accuracy: 0.9947\n",
      "Epoch 83/100\n",
      "381/381 [==============================] - 0s 215us/sample - loss: 0.0873 - accuracy: 0.9738 - val_loss: 0.0432 - val_accuracy: 0.9947\n",
      "Epoch 84/100\n",
      "381/381 [==============================] - 0s 219us/sample - loss: 0.0869 - accuracy: 0.9764 - val_loss: 0.0434 - val_accuracy: 0.9947\n",
      "Epoch 85/100\n",
      "381/381 [==============================] - 0s 173us/sample - loss: 0.0866 - accuracy: 0.9764 - val_loss: 0.0430 - val_accuracy: 0.9947\n",
      "Epoch 86/100\n",
      "381/381 [==============================] - 0s 174us/sample - loss: 0.0864 - accuracy: 0.9764 - val_loss: 0.0428 - val_accuracy: 0.9947\n",
      "Epoch 87/100\n",
      "381/381 [==============================] - 0s 179us/sample - loss: 0.0861 - accuracy: 0.9764 - val_loss: 0.0426 - val_accuracy: 0.9947\n",
      "Epoch 88/100\n",
      "381/381 [==============================] - 0s 175us/sample - loss: 0.0858 - accuracy: 0.9790 - val_loss: 0.0423 - val_accuracy: 0.9947\n",
      "Epoch 89/100\n",
      "381/381 [==============================] - 0s 241us/sample - loss: 0.0854 - accuracy: 0.9790 - val_loss: 0.0420 - val_accuracy: 0.9947\n",
      "Epoch 90/100\n",
      "381/381 [==============================] - 0s 180us/sample - loss: 0.0851 - accuracy: 0.9790 - val_loss: 0.0419 - val_accuracy: 0.9947\n",
      "Epoch 91/100\n",
      "381/381 [==============================] - 0s 168us/sample - loss: 0.0849 - accuracy: 0.9790 - val_loss: 0.0417 - val_accuracy: 0.9947\n",
      "Epoch 92/100\n",
      "381/381 [==============================] - 0s 170us/sample - loss: 0.0846 - accuracy: 0.9790 - val_loss: 0.0415 - val_accuracy: 0.9947\n",
      "Epoch 93/100\n",
      "381/381 [==============================] - 0s 180us/sample - loss: 0.0843 - accuracy: 0.9790 - val_loss: 0.0411 - val_accuracy: 0.9947\n",
      "Epoch 94/100\n",
      "381/381 [==============================] - 0s 165us/sample - loss: 0.0842 - accuracy: 0.9790 - val_loss: 0.0412 - val_accuracy: 0.9947\n",
      "Epoch 95/100\n",
      "381/381 [==============================] - 0s 171us/sample - loss: 0.0838 - accuracy: 0.9790 - val_loss: 0.0409 - val_accuracy: 0.9947\n",
      "Epoch 96/100\n",
      "381/381 [==============================] - 0s 181us/sample - loss: 0.0836 - accuracy: 0.9790 - val_loss: 0.0408 - val_accuracy: 0.9947\n",
      "Epoch 97/100\n",
      "381/381 [==============================] - 0s 176us/sample - loss: 0.0833 - accuracy: 0.9790 - val_loss: 0.0404 - val_accuracy: 0.9947\n",
      "Epoch 98/100\n",
      "381/381 [==============================] - 0s 176us/sample - loss: 0.0831 - accuracy: 0.9790 - val_loss: 0.0402 - val_accuracy: 0.9947\n",
      "Epoch 99/100\n",
      "381/381 [==============================] - 0s 170us/sample - loss: 0.0831 - accuracy: 0.9790 - val_loss: 0.0402 - val_accuracy: 0.9947\n",
      "Epoch 100/100\n",
      "381/381 [==============================] - 0s 163us/sample - loss: 0.0825 - accuracy: 0.9790 - val_loss: 0.0399 - val_accuracy: 0.9947\n"
     ]
    }
   ],
   "source": [
    "history = model.fit(X_train,y_train,validation_data=(X_test,y_test),epochs =100,batch_size=10)"
   ]
  },
  {
   "cell_type": "code",
   "execution_count": 38,
   "metadata": {
    "colab": {
     "base_uri": "https://localhost:8080/",
     "height": 68
    },
    "colab_type": "code",
    "collapsed": false,
    "deletable": true,
    "editable": true,
    "executionInfo": {
     "elapsed": 989,
     "status": "ok",
     "timestamp": 1583585278889,
     "user": {
      "displayName": "SURYA DHEESHJITH",
      "photoUrl": "",
      "userId": "01445913287307819950"
     },
     "user_tz": -330
    },
    "id": "202_I0WeCPH_",
    "outputId": "6db09ed9-fad9-4ce6-d22b-6744c3f3ea5f"
   },
   "outputs": [
    {
     "name": "stdout",
     "output_type": "stream",
     "text": [
      "381/381 [==============================] - 0s 56us/sample - loss: 0.0822 - accuracy: 0.9790\n",
      "188/188 [==============================] - 0s 92us/sample - loss: 0.0399 - accuracy: 0.9947\n"
     ]
    },
    {
     "data": {
      "text/plain": [
       "[0.03990391729042885, 0.9946808]"
      ]
     },
     "execution_count": 38,
     "metadata": {
      "tags": []
     },
     "output_type": "execute_result"
    }
   ],
   "source": [
    "model.evaluate(X_train,y_train)\n",
    "model.evaluate(X_test,y_test)"
   ]
  },
  {
   "cell_type": "code",
   "execution_count": 39,
   "metadata": {
    "colab": {
     "base_uri": "https://localhost:8080/",
     "height": 34
    },
    "colab_type": "code",
    "collapsed": false,
    "deletable": true,
    "editable": true,
    "executionInfo": {
     "elapsed": 988,
     "status": "ok",
     "timestamp": 1583585281441,
     "user": {
      "displayName": "SURYA DHEESHJITH",
      "photoUrl": "",
      "userId": "01445913287307819950"
     },
     "user_tz": -330
    },
    "id": "TreXymO_CaMh",
    "outputId": "37dee046-ca2f-491f-c997-e1f5aa2dcbea"
   },
   "outputs": [
    {
     "data": {
      "text/plain": [
       "<tensorflow.python.keras.callbacks.History at 0x7f6ec8102160>"
      ]
     },
     "execution_count": 39,
     "metadata": {
      "tags": []
     },
     "output_type": "execute_result"
    }
   ],
   "source": [
    "history"
   ]
  },
  {
   "cell_type": "code",
   "execution_count": 37,
   "metadata": {
    "colab": {
     "base_uri": "https://localhost:8080/",
     "height": 282
    },
    "colab_type": "code",
    "collapsed": false,
    "deletable": true,
    "editable": true,
    "executionInfo": {
     "elapsed": 803,
     "status": "ok",
     "timestamp": 1583585243159,
     "user": {
      "displayName": "SURYA DHEESHJITH",
      "photoUrl": "",
      "userId": "01445913287307819950"
     },
     "user_tz": -330
    },
    "id": "kxz54dwSCRMr",
    "outputId": "d76d086f-9f5a-4c01-b80d-7c27e9420efa"
   },
   "outputs": [
    {
     "data": {
      "text/plain": [
       "<matplotlib.legend.Legend at 0x7f6ec7c58a90>"
      ]
     },
     "execution_count": 37,
     "metadata": {
      "tags": []
     },
     "output_type": "execute_result"
    },
    {
     "data": {
      "image/png": "[encoded data removed]",
      "text/plain": [
       "<Figure size 432x288 with 1 Axes>"
      ]
     },
     "metadata": {
      "tags": []
     },
     "output_type": "display_data"
    }
   ],
   "source": [
    "import matplotlib.pyplot as plt\n",
    "plt.plot(history.history['loss'],label ='loss')\n",
    "plt.plot(history.history['val_loss'],label ='val_loss')\n",
    "plt.legend()"
   ]
  },
  {
   "cell_type": "code",
   "execution_count": 40,
   "metadata": {
    "colab": {
     "base_uri": "https://localhost:8080/",
     "height": 282
    },
    "colab_type": "code",
    "collapsed": false,
    "deletable": true,
    "editable": true,
    "executionInfo": {
     "elapsed": 927,
     "status": "ok",
     "timestamp": 1583585339884,
     "user": {
      "displayName": "SURYA DHEESHJITH",
      "photoUrl": "",
      "userId": "01445913287307819950"
     },
     "user_tz": -330
    },
    "id": "nIFS4LrDClJN",
    "outputId": "66e19be9-9eb2-423d-9802-98cb744ec30a"
   },
   "outputs": [
    {
     "data": {
      "text/plain": [
       "<matplotlib.legend.Legend at 0x7f6ec7c49668>"
      ]
     },
     "execution_count": 40,
     "metadata": {
      "tags": []
     },
     "output_type": "execute_result"
    },
    {
     "data": {
      "image/png": "[encoded data removed]",
      "text/plain": [
       "<Figure size 432x288 with 1 Axes>"
      ]
     },
     "metadata": {
      "tags": []
     },
     "output_type": "display_data"
    }
   ],
   "source": [
    "plt.plot(history.history['accuracy'],label ='accuracy')\n",
    "plt.plot(history.history['val_accuracy'],label ='val_accuracy')\n",
    "plt.legend()"
   ]
  },
  {
   "cell_type": "markdown",
   "metadata": {
    "colab_type": "text",
    "deletable": true,
    "editable": true,
    "id": "fWEl4cJkDsz4"
   },
   "source": [
    "Saving the model\n",
    "\n"
   ]
  },
  {
   "cell_type": "code",
   "execution_count": 0,
   "metadata": {
    "colab": {},
    "colab_type": "code",
    "collapsed": true,
    "deletable": true,
    "editable": true,
    "id": "cTCBnWqyDvVT"
   },
   "outputs": [],
   "source": [
    "model.save('linearclassifier.h5')"
   ]
  },
  {
   "cell_type": "code",
   "execution_count": 42,
   "metadata": {
    "colab": {
     "base_uri": "https://localhost:8080/",
     "height": 68
    },
    "colab_type": "code",
    "collapsed": false,
    "deletable": true,
    "editable": true,
    "executionInfo": {
     "elapsed": 1323,
     "status": "ok",
     "timestamp": 1583585643942,
     "user": {
      "displayName": "SURYA DHEESHJITH",
      "photoUrl": "",
      "userId": "01445913287307819950"
     },
     "user_tz": -330
    },
    "id": "UUB0gucvDw84",
    "outputId": "074eabd5-6f9b-4d29-907e-8c7f8c453f78"
   },
   "outputs": [
    {
     "name": "stdout",
     "output_type": "stream",
     "text": [
      "[<tensorflow.python.keras.layers.core.Dense object at 0x7f6ec7c0a748>]\n",
      "188/188 [==============================] - 0s 180us/sample - loss: 0.0399 - accuracy: 0.9947\n"
     ]
    },
    {
     "data": {
      "text/plain": [
       "[0.03990391729042885, 0.9946808]"
      ]
     },
     "execution_count": 42,
     "metadata": {
      "tags": []
     },
     "output_type": "execute_result"
    }
   ],
   "source": [
    "model = tf.keras.models.load_model('linearclassifier.h5')\n",
    "print(model.layers)\n",
    "model.evaluate(X_test, y_test)"
   ]
  },
  {
   "cell_type": "code",
   "execution_count": 0,
   "metadata": {
    "colab": {},
    "colab_type": "code",
    "collapsed": true,
    "deletable": true,
    "editable": true,
    "id": "iRcbnzRVD5QQ"
   },
   "outputs": [],
   "source": [
    "from google.colab import files\n",
    "files.download('linearclassifier.h5')"
   ]
  }
 ],
 "metadata": {
  "colab": {
   "authorship_tag": "ABX9TyOiRICqVG2ALL51g5IzRjkX",
   "name": "TF Linear Classification.ipynb",
   "provenance": []
  },
  "kernelspec": {
   "display_name": "Python 3",
   "language": "python",
   "name": "python3"
  },
  "language_info": {
   "codemirror_mode": {
    "name": "ipython",
    "version": 3
   },
   "file_extension": ".py",
   "mimetype": "text/x-python",
   "name": "python",
   "nbconvert_exporter": "python",
   "pygments_lexer": "ipython3",
   "version": "3.5.2"
  }
 },
 "nbformat": 4,
 "nbformat_minor": 0
}
