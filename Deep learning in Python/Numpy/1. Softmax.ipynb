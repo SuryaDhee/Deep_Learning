{
 "cells": [
  {
   "cell_type": "code",
   "execution_count": 1,
   "metadata": {},
   "outputs": [],
   "source": [
    "import numpy as np\n",
    "import random"
   ]
  },
  {
   "cell_type": "code",
   "execution_count": 2,
   "metadata": {},
   "outputs": [],
   "source": [
    "a = np.random.randn(100,50)"
   ]
  },
  {
   "cell_type": "code",
   "execution_count": 3,
   "metadata": {},
   "outputs": [
    {
     "data": {
      "text/plain": [
       "array([[ 0.60615399, -0.8220143 , -0.604523  , ..., -1.3861188 ,\n",
       "         0.75609962,  1.62401957],\n",
       "       [-0.5065853 ,  0.33884578,  0.10184638, ..., -0.60700394,\n",
       "        -0.37875831, -1.96188655],\n",
       "       [ 0.28426073, -1.23953773,  0.55270622, ..., -1.85896676,\n",
       "        -1.19810445,  1.34746078],\n",
       "       ...,\n",
       "       [-1.0575343 , -0.92882241, -0.75390203, ..., -2.53094774,\n",
       "         0.95047302,  0.13662089],\n",
       "       [ 1.12182997, -1.06687022,  0.02725476, ..., -0.11856111,\n",
       "        -0.32292932, -0.13865688],\n",
       "       [-0.48343326,  0.26972748,  2.37984174, ..., -1.32053759,\n",
       "         0.10222565, -0.11944805]])"
      ]
     },
     "execution_count": 3,
     "metadata": {},
     "output_type": "execute_result"
    }
   ],
   "source": [
    "a"
   ]
  },
  {
   "cell_type": "code",
   "execution_count": 4,
   "metadata": {},
   "outputs": [],
   "source": [
    "expa = np.exp(a)"
   ]
  },
  {
   "cell_type": "code",
   "execution_count": 5,
   "metadata": {},
   "outputs": [
    {
     "data": {
      "text/plain": [
       "array([[ 1.83336667,  0.43954539,  0.54633496, ...,  0.25004389,\n",
       "         2.12995237,  5.07344245],\n",
       "       [ 0.6025496 ,  1.40332691,  1.10721337, ...,  0.54498122,\n",
       "         0.68471108,  0.14059293],\n",
       "       [ 1.32877934,  0.28951802,  1.73794994, ...,  0.15583356,\n",
       "         0.30176568,  3.8476431 ],\n",
       "       ...,\n",
       "       [ 0.34731112,  0.39501861,  0.47052696, ...,  0.07958356,\n",
       "         2.58693304,  1.14639346],\n",
       "       [ 3.07046794,  0.34408374,  1.02762957, ...,  0.88819754,\n",
       "         0.72402503,  0.87052667],\n",
       "       [ 0.61666259,  1.3096075 , 10.80319297, ...,  0.26699173,\n",
       "         1.10763338,  0.8874101 ]])"
      ]
     },
     "execution_count": 5,
     "metadata": {},
     "output_type": "execute_result"
    }
   ],
   "source": [
    "expa"
   ]
  },
  {
   "cell_type": "code",
   "execution_count": 6,
   "metadata": {},
   "outputs": [],
   "source": [
    "p = expa/np.sum(expa,axis=1,keepdims=True) #axis=1; row-wise addition.(All elements in a row are added)"
   ]
  },
  {
   "cell_type": "code",
   "execution_count": 7,
   "metadata": {},
   "outputs": [
    {
     "data": {
      "text/plain": [
       "array([1., 1., 1., 1., 1., 1., 1., 1., 1., 1., 1., 1., 1., 1., 1., 1., 1.,\n",
       "       1., 1., 1., 1., 1., 1., 1., 1., 1., 1., 1., 1., 1., 1., 1., 1., 1.,\n",
       "       1., 1., 1., 1., 1., 1., 1., 1., 1., 1., 1., 1., 1., 1., 1., 1., 1.,\n",
       "       1., 1., 1., 1., 1., 1., 1., 1., 1., 1., 1., 1., 1., 1., 1., 1., 1.,\n",
       "       1., 1., 1., 1., 1., 1., 1., 1., 1., 1., 1., 1., 1., 1., 1., 1., 1.,\n",
       "       1., 1., 1., 1., 1., 1., 1., 1., 1., 1., 1., 1., 1., 1., 1.])"
      ]
     },
     "execution_count": 7,
     "metadata": {},
     "output_type": "execute_result"
    }
   ],
   "source": [
    "p.sum(axis=1)"
   ]
  },
  {
   "cell_type": "code",
   "execution_count": 8,
   "metadata": {},
   "outputs": [
    {
     "data": {
      "text/plain": [
       "array([[0.02270609, 0.00544373, 0.00676631, ..., 0.00309677, 0.02637927,\n",
       "        0.06283414],\n",
       "       [0.00983184, 0.02289818, 0.01806647, ..., 0.00889249, 0.01117248,\n",
       "        0.00229406],\n",
       "       [0.01468029, 0.00319858, 0.01920078, ..., 0.00172164, 0.00333389,\n",
       "        0.04250857],\n",
       "       ...,\n",
       "       [0.00332586, 0.00378271, 0.00450578, ..., 0.00076209, 0.02477255,\n",
       "        0.0109779 ],\n",
       "       [0.03693525, 0.00413905, 0.01236155, ..., 0.0106843 , 0.00870944,\n",
       "        0.01047173],\n",
       "       [0.00830144, 0.01762979, 0.14543135, ..., 0.00359421, 0.01491083,\n",
       "        0.01194621]])"
      ]
     },
     "execution_count": 8,
     "metadata": {},
     "output_type": "execute_result"
    }
   ],
   "source": [
    "p"
   ]
  },
  {
   "cell_type": "code",
   "execution_count": 9,
   "metadata": {},
   "outputs": [
    {
     "data": {
      "text/plain": [
       "(100,)"
      ]
     },
     "execution_count": 9,
     "metadata": {},
     "output_type": "execute_result"
    }
   ],
   "source": [
    "np.sum(expa,axis=1).shape"
   ]
  },
  {
   "cell_type": "code",
   "execution_count": 10,
   "metadata": {},
   "outputs": [
    {
     "data": {
      "text/plain": [
       "(100, 1)"
      ]
     },
     "execution_count": 10,
     "metadata": {},
     "output_type": "execute_result"
    }
   ],
   "source": [
    "np.sum(expa,axis=1,keepdims=True).shape"
   ]
  },
  {
   "cell_type": "code",
   "execution_count": null,
   "metadata": {},
   "outputs": [],
   "source": []
  }
 ],
 "metadata": {
  "kernelspec": {
   "display_name": "Python 3",
   "language": "python",
   "name": "python3"
  },
  "language_info": {
   "codemirror_mode": {
    "name": "ipython",
    "version": 3
   },
   "file_extension": ".py",
   "mimetype": "text/x-python",
   "name": "python",
   "nbconvert_exporter": "python",
   "pygments_lexer": "ipython3",
   "version": "3.7.3"
  }
 },
 "nbformat": 4,
 "nbformat_minor": 2
}
