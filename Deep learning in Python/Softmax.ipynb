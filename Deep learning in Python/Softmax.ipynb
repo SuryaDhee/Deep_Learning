{
 "cells": [
  {
   "cell_type": "code",
   "execution_count": 3,
   "metadata": {},
   "outputs": [],
   "source": [
    "import numpy as np\n",
    "import random"
   ]
  },
  {
   "cell_type": "code",
   "execution_count": 5,
   "metadata": {},
   "outputs": [],
   "source": [
    "a = np.random.randn(100,50)"
   ]
  },
  {
   "cell_type": "code",
   "execution_count": 6,
   "metadata": {},
   "outputs": [
    {
     "data": {
      "text/plain": [
       "array([[-1.37622742,  0.16868809,  1.12503484, ...,  1.39649569,\n",
       "        -0.90030796,  1.53596354],\n",
       "       [-1.14707588,  1.02905765,  0.54642104, ...,  0.82671726,\n",
       "         0.82030271,  0.89642049],\n",
       "       [ 1.07483226,  1.41170643, -0.09743832, ...,  1.73153645,\n",
       "        -0.40660858, -1.31875178],\n",
       "       ...,\n",
       "       [ 0.11812112,  0.74867749,  1.1832311 , ..., -0.97094117,\n",
       "        -0.47327606,  0.60412664],\n",
       "       [ 0.87120445,  0.44561001,  0.41629459, ...,  0.45223107,\n",
       "         1.56813506,  0.09451163],\n",
       "       [ 0.54682841,  0.85540101, -1.19458285, ..., -0.137631  ,\n",
       "         1.4034458 , -0.35002638]])"
      ]
     },
     "execution_count": 6,
     "metadata": {},
     "output_type": "execute_result"
    }
   ],
   "source": [
    "a"
   ]
  },
  {
   "cell_type": "code",
   "execution_count": 8,
   "metadata": {},
   "outputs": [],
   "source": [
    "expa = np.exp(a)"
   ]
  },
  {
   "cell_type": "code",
   "execution_count": 9,
   "metadata": {},
   "outputs": [
    {
     "data": {
      "text/plain": [
       "array([[0.25252945, 1.18375086, 3.08032417, ..., 4.04101415, 0.40644447,\n",
       "        4.64579979],\n",
       "       [0.31756401, 2.7984275 , 1.72706087, ..., 2.28580271, 2.27118723,\n",
       "        2.45081468],\n",
       "       [2.92950147, 4.10295083, 0.90715829, ..., 5.64932718, 0.66590479,\n",
       "        0.26746895],\n",
       "       ...,\n",
       "       [1.12538041, 2.11420212, 3.26490642, ..., 0.37872642, 0.62295807,\n",
       "        1.82965356],\n",
       "       [2.3897875 , 1.5614424 , 1.5163325 , ..., 1.57181511, 4.79769246,\n",
       "        1.09912194],\n",
       "       [1.72776455, 2.3523175 , 0.30283025, ..., 0.87142018, 4.06919748,\n",
       "        0.7046695 ]])"
      ]
     },
     "execution_count": 9,
     "metadata": {},
     "output_type": "execute_result"
    }
   ],
   "source": [
    "expa"
   ]
  },
  {
   "cell_type": "code",
   "execution_count": 18,
   "metadata": {},
   "outputs": [],
   "source": [
    "p = expa/np.sum(expa,axis=1,keepdims=True) #axis=1; row-wise addition.(All elements in a row are added)"
   ]
  },
  {
   "cell_type": "code",
   "execution_count": 26,
   "metadata": {},
   "outputs": [
    {
     "data": {
      "text/plain": [
       "array([1., 1., 1., 1., 1., 1., 1., 1., 1., 1., 1., 1., 1., 1., 1., 1., 1.,\n",
       "       1., 1., 1., 1., 1., 1., 1., 1., 1., 1., 1., 1., 1., 1., 1., 1., 1.,\n",
       "       1., 1., 1., 1., 1., 1., 1., 1., 1., 1., 1., 1., 1., 1., 1., 1., 1.,\n",
       "       1., 1., 1., 1., 1., 1., 1., 1., 1., 1., 1., 1., 1., 1., 1., 1., 1.,\n",
       "       1., 1., 1., 1., 1., 1., 1., 1., 1., 1., 1., 1., 1., 1., 1., 1., 1.,\n",
       "       1., 1., 1., 1., 1., 1., 1., 1., 1., 1., 1., 1., 1., 1., 1.])"
      ]
     },
     "execution_count": 26,
     "metadata": {},
     "output_type": "execute_result"
    }
   ],
   "source": [
    "p.sum(axis=1)"
   ]
  },
  {
   "cell_type": "code",
   "execution_count": 29,
   "metadata": {},
   "outputs": [
    {
     "data": {
      "text/plain": [
       "(100,)"
      ]
     },
     "execution_count": 29,
     "metadata": {},
     "output_type": "execute_result"
    }
   ],
   "source": [
    "np.sum(expa,axis=1).shape"
   ]
  },
  {
   "cell_type": "code",
   "execution_count": 30,
   "metadata": {},
   "outputs": [
    {
     "data": {
      "text/plain": [
       "(100, 1)"
      ]
     },
     "execution_count": 30,
     "metadata": {},
     "output_type": "execute_result"
    }
   ],
   "source": [
    "np.sum(expa,axis=1,keepdims=True).shape"
   ]
  },
  {
   "cell_type": "code",
   "execution_count": null,
   "metadata": {},
   "outputs": [],
   "source": []
  }
 ],
 "metadata": {
  "kernelspec": {
   "display_name": "Python 3",
   "language": "python",
   "name": "python3"
  },
  "language_info": {
   "codemirror_mode": {
    "name": "ipython",
    "version": 3
   },
   "file_extension": ".py",
   "mimetype": "text/x-python",
   "name": "python",
   "nbconvert_exporter": "python",
   "pygments_lexer": "ipython3",
   "version": "3.7.3"
  }
 },
 "nbformat": 4,
 "nbformat_minor": 2
}
